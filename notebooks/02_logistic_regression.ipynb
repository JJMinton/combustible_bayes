{
 "cells": [
  {
   "cell_type": "code",
   "execution_count": 1,
   "metadata": {},
   "outputs": [
    {
     "name": "stderr",
     "output_type": "stream",
     "text": [
      "/home/vscode/.cache/pypoetry/virtualenvs/combustible-bayes-u3bLjQHq-py3.12/lib/python3.12/site-packages/tqdm/auto.py:21: TqdmWarning: IProgress not found. Please update jupyter and ipywidgets. See https://ipywidgets.readthedocs.io/en/stable/user_install.html\n",
      "  from .autonotebook import tqdm as notebook_tqdm\n"
     ]
    }
   ],
   "source": [
    "import time\n",
    "import os\n",
    "\n",
    "import numpy as np\n",
    "\n",
    "import jax\n",
    "import jax.numpy as jnp\n",
    "from jax import random\n",
    "\n",
    "import numpyro\n",
    "import numpyro.distributions as dist\n",
    "from numpyro.infer import MCMC, NUTS, init_to_median\n",
    "\n",
    "import matplotlib.pyplot as plt\n",
    "import arviz as az\n",
    "\n",
    "numpyro.set_platform(\"cpu\")\n",
    "numpyro.set_host_device_count(4)\n",
    "\n",
    "rng_key = random.PRNGKey(67)"
   ]
  },
  {
   "cell_type": "code",
   "execution_count": 3,
   "metadata": {},
   "outputs": [],
   "source": [
    "def run_mcmc(\n",
    "    rng_key,  # random key\n",
    "    model,  # Numpyro model\n",
    "    args,  # Dictionary of arguments\n",
    "    verbose=True,  # boolean for verbose MCMC\n",
    "):\n",
    "    init_strategy = init_to_median(num_samples=10)\n",
    "    kernel = NUTS(model, init_strategy=init_strategy)\n",
    "    mcmc = MCMC(\n",
    "        kernel,\n",
    "        num_warmup=args[\"num_warmup\"],\n",
    "        num_samples=args[\"num_mcmc_samples\"],\n",
    "        num_chains=args[\"num_chains\"],\n",
    "        thinning=args[\"thinning\"],\n",
    "        progress_bar=True,\n",
    "    )\n",
    "    start = time.time()\n",
    "    mcmc.run(rng_key, args)\n",
    "    t_elapsed = time.time() - start\n",
    "    if verbose:\n",
    "        mcmc.print_summary(exclude_deterministic=False)\n",
    "    else:\n",
    "        mcmc.print_summary()\n",
    "\n",
    "    print(\"\\nMCMC elapsed time:\", round(t_elapsed), \"s\")\n",
    "\n",
    "    # plot posterior distribution and traceplots\n",
    "    data = az.from_numpyro(mcmc)\n",
    "    az.plot_trace(data, compact=True)\n",
    "    plt.tight_layout()\n",
    "\n",
    "    return mcmc, mcmc.get_samples(), t_elapsed"
   ]
  }
 ],
 "metadata": {
  "kernelspec": {
   "display_name": "combustible-bayes-u3bLjQHq-py3.12",
   "language": "python",
   "name": "python3"
  },
  "language_info": {
   "codemirror_mode": {
    "name": "ipython",
    "version": 3
   },
   "file_extension": ".py",
   "mimetype": "text/x-python",
   "name": "python",
   "nbconvert_exporter": "python",
   "pygments_lexer": "ipython3",
   "version": "3.12.2"
  }
 },
 "nbformat": 4,
 "nbformat_minor": 2
}
